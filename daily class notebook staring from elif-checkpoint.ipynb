{
 "cells": [
  {
   "cell_type": "code",
   "execution_count": 1,
   "metadata": {},
   "outputs": [
    {
     "name": "stdout",
     "output_type": "stream",
     "text": [
      "Enter two number = 1 3\n",
      "3 is greater than 1\n"
     ]
    }
   ],
   "source": [
    "a,b =[int(i) for i in input('Enter two number = ').split()]\n",
    "if a>b:\n",
    "    print(a,\" is greater then \",b)\n",
    "elif a==b:\n",
    "    print(\"both are equal\")\n",
    "else :\n",
    "    print(b, \"is greater than\",a)"
   ]
  },
  {
   "cell_type": "code",
   "execution_count": 2,
   "metadata": {},
   "outputs": [
    {
     "name": "stdout",
     "output_type": "stream",
     "text": [
      "Enter a password = nitn\n",
      "wrong password\n"
     ]
    }
   ],
   "source": [
    "str = input(\"Enter a password = \")\n",
    "password = 'nitin'\n",
    "if str == password:\n",
    "    print(\"correct password\")\n",
    "else :\n",
    "    print(\"wrong password\")"
   ]
  },
  {
   "cell_type": "code",
   "execution_count": 14,
   "metadata": {},
   "outputs": [
    {
     "name": "stdout",
     "output_type": "stream",
     "text": [
      "2002,2009,2016,2023,2037,2044,2051,2058,2072,2079,2086,2093,2107,2114,2121,2128,2142,2149,2156,2163,2177,2184,2191,2198,2212,2219,2226,2233,2247,2254,2261,2268,2282,2289,2296,2303,2317,2324,2331,2338,2352,2359,2366,2373,2387,2394,2401,2408,2422,2429,2436,2443,2457,2464,2471,2478,2492,2499,2506,2513,2527,2534,2541,2548,2562,2569,2576,2583,2597,2604,2611,2618,2632,2639,2646,2653,2667,2674,2681,2688,2702,2709,2716,2723,2737,2744,2751,2758,2772,2779,2786,2793,2807,2814,2821,2828,2842,2849,2856,2863,2877,2884,2891,2898,2912,2919,2926,2933,2947,2954,2961,2968,2982,2989,2996,3003,3017,3024,3031,3038,3052,3059,3066,3073,3087,3094,3101,3108,3122,3129,3136,3143,3157,3164,3171,3178,3192,3199,"
     ]
    }
   ],
   "source": [
    "for i in range(2000,3201):\n",
    "    if i%7 == 0 and i%5 !=0:\n",
    "        print(i,end=',')"
   ]
  },
  {
   "cell_type": "code",
   "execution_count": 17,
   "metadata": {},
   "outputs": [
    {
     "name": "stdout",
     "output_type": "stream",
     "text": [
      "enter a number=8\n",
      "40320\n"
     ]
    }
   ],
   "source": [
    "n = int(input(\"enter a number=\"))\n",
    "\n",
    "fact = 1\n",
    "for i in range(1,n+1):\n",
    "    fact  = fact * i\n",
    "print(fact)\n",
    "    "
   ]
  },
  {
   "cell_type": "code",
   "execution_count": 22,
   "metadata": {},
   "outputs": [
    {
     "name": "stdout",
     "output_type": "stream",
     "text": [
      "8\n",
      "40320\n"
     ]
    }
   ],
   "source": [
    "n = int(input())\n",
    "\n",
    "def shortFact(x): return 1 if x <=1 else x*shortFact(x-1)\n",
    "print(shortFact(n))"
   ]
  },
  {
   "cell_type": "code",
   "execution_count": 23,
   "metadata": {},
   "outputs": [
    {
     "name": "stdout",
     "output_type": "stream",
     "text": [
      "8\n",
      "{1: 1, 2: 4, 3: 9, 4: 16, 5: 25, 6: 36, 7: 49, 8: 64}\n"
     ]
    }
   ],
   "source": [
    "n= int(input())\n",
    "ans={}\n",
    "for i in range (1,n+1):\n",
    "    ans[i] = i * i\n",
    "print(ans)"
   ]
  },
  {
   "cell_type": "code",
   "execution_count": 24,
   "metadata": {},
   "outputs": [
    {
     "name": "stdout",
     "output_type": "stream",
     "text": [
      "8\n",
      "{1: 1, 2: 4, 3: 9, 4: 16, 5: 25, 6: 36, 7: 49, 8: 64}\n"
     ]
    }
   ],
   "source": [
    "n = int(input())\n",
    "ans={i : i*i for i in range(1,n+1)}\n",
    "print(ans)"
   ]
  },
  {
   "cell_type": "code",
   "execution_count": 27,
   "metadata": {},
   "outputs": [],
   "source": [
    "def binarySearch(lst,key, l, r):\n",
    "    if r>=1:\n",
    "        mid = l + (r-1)//2\n",
    "        \n",
    "        if lst[mid] == key:\n",
    "            return mid\n",
    "        elif lst[mid]<key:\n",
    "            return binarySearch(lst, key, mid + 1, r)\n",
    "        elif lst[mid]>key:\n",
    "            return binarySearch(lst, key, l, mid - 1)\n",
    "    else:\n",
    "        return -1\n",
    "\n",
    "    arr = [int(i) for i in range(101)]\n",
    "    print(binarySearch(arr, 67, 0, len(arr) - 1))\n",
    "# RECURSIVE BINARY SEARCH TREE\n"
   ]
  },
  {
   "cell_type": "code",
   "execution_count": 34,
   "metadata": {},
   "outputs": [
    {
     "name": "stdout",
     "output_type": "stream",
     "text": [
      "4\n",
      "abcd\n",
      "bkvidfsb\n",
      "bjsbb\n",
      "abcd\n",
      "3\n",
      "211"
     ]
    }
   ],
   "source": [
    "n = int(input())\n",
    "\n",
    "word_list = []\n",
    "word_dict = {}\n",
    "\n",
    "for i in range(n):\n",
    "    word = input()\n",
    "    if word not in word_dict:\n",
    "        word_list.append(word)\n",
    "    word_dict[word] = word_dict.get(word, 0) + 1\n",
    "    \n",
    "print(len(word_list))\n",
    "for word in word_list:\n",
    "    print(word_dict[word], end='')"
   ]
  },
  {
   "cell_type": "code",
   "execution_count": 35,
   "metadata": {},
   "outputs": [
    {
     "name": "stdout",
     "output_type": "stream",
     "text": [
      "gugvilgrfeolfur\n",
      "g 3\n",
      "f 2\n",
      "l 2\n",
      "r 2\n",
      "u 2\n",
      "e 1\n",
      "i 1\n",
      "o 1\n",
      "v 1\n"
     ]
    }
   ],
   "source": [
    "word = input()\n",
    "dct = {}\n",
    "for i in word:\n",
    "    dct[i] = dct.get(i,0) + 1\n",
    "\n",
    "dct = sorted(dct.items(),key=lambda x: (-x[1],x[0]))\n",
    "for i in dct:\n",
    "    print(i[0],i[1])\n",
    "\n"
   ]
  },
  {
   "cell_type": "code",
   "execution_count": 4,
   "metadata": {},
   "outputs": [
    {
     "name": "stdout",
     "output_type": "stream",
     "text": [
      "7832576\n"
     ]
    }
   ],
   "source": [
    "def decor(fun):\n",
    "    def inner ():\n",
    "        value = fun()\n",
    "        return value + 2\n",
    "    return inner\n",
    "\n",
    "\"\"\"def num():\n",
    "    return 111\n",
    "result =decor(num)\n",
    "print(result()) \"\"\"\n",
    "\n",
    "@decor\n",
    "def num():\n",
    "    return 7832574\n",
    "print(num())"
   ]
  },
  {
   "cell_type": "code",
   "execution_count": 8,
   "metadata": {},
   "outputs": [
    {
     "name": "stdout",
     "output_type": "stream",
     "text": [
      "10 11 12 13 14 15 "
     ]
    }
   ],
   "source": [
    "def gen(x, y):\n",
    "    while x<=y:\n",
    "        yield x\n",
    "        x += 1\n",
    "g =gen(10, 15)\n",
    "\n",
    "for i in g:\n",
    "    print(i, end=' ')"
   ]
  },
  {
   "cell_type": "code",
   "execution_count": null,
   "metadata": {},
   "outputs": [],
   "source": []
  }
 ],
 "metadata": {
  "kernelspec": {
   "display_name": "Python 3",
   "language": "python",
   "name": "python3"
  },
  "language_info": {
   "codemirror_mode": {
    "name": "ipython",
    "version": 3
   },
   "file_extension": ".py",
   "mimetype": "text/x-python",
   "name": "python",
   "nbconvert_exporter": "python",
   "pygments_lexer": "ipython3",
   "version": "3.7.1"
  }
 },
 "nbformat": 4,
 "nbformat_minor": 4
}
