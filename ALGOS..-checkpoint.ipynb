{
 "cells": [
  {
   "cell_type": "code",
   "execution_count": null,
   "metadata": {},
   "outputs": [],
   "source": [
    "# algorithim to add two numbers.\n",
    "# 1. strat [begin]\n",
    "# 2. input x  [accept]\n",
    "# 3. input y  [accept]\n",
    "# 4. Calculate z = x + y  []\n",
    "# 5. print z []\n",
    "# 6. Stop   [End]\n",
    "# Program to add two numbers\n",
    "x = int(input('Enter first number : '))\n",
    "y = int(input(\"Enter second number : \"))\n",
    "z = x + y\n",
    "print(z)"
   ]
  },
  {
   "cell_type": "code",
   "execution_count": null,
   "metadata": {},
   "outputs": [],
   "source": [
    "# algorithm to perform arithmetic operation\n",
    "# start\n",
    "#input x, input y\n",
    "#calculate  r1, r2, r3, r4 = x+y, X-y, x*y, x/y\n",
    "#print r1,r2,r3,r4\n",
    "#stop\n",
    "# Python PROGRAM TO PERFORM RTHIMETIC OPERATION\n"
   ]
  },
  {
   "cell_type": "code",
   "execution_count": 4,
   "metadata": {},
   "outputs": [
    {
     "name": "stdout",
     "output_type": "stream",
     "text": [
      "Enter First Number:74\n",
      "Enter Second Number:35\n",
      "Result of addition =  109.0\n",
      "Result of subtraction =  39.0\n",
      "Result of multiplication =  2590.0\n",
      "Result of division =  2.1142857142857143\n"
     ]
    }
   ],
   "source": [
    "x = float(input('Enter First Number:'))\n",
    "y = float(input('Enter Second Number:'))\n",
    "r1 = x+y\n",
    "r2 = x-y\n",
    "r3 = x*y\n",
    "r4 = x/y\n",
    "#print(r1, r2, r3, r4)\n",
    "print('Result of addition = ',r1)\n",
    "print('Result of subtraction = ', r2)\n",
    "print('Result of multiplication = ',r3)\n",
    "print('Result of division = ', r4)"
   ]
  },
  {
   "cell_type": "code",
   "execution_count": 7,
   "metadata": {},
   "outputs": [
    {
     "name": "stdout",
     "output_type": "stream",
     "text": [
      "Enter a number: 9743793\n",
      "square root =  3121.5049255126924\n"
     ]
    }
   ],
   "source": [
    "#Algorhitm to find the given number\n",
    "# 1. Start\n",
    "# 2. input number\n",
    "# 3. result = sqrt(num)\n",
    "# 4. print / DISPLAY\n",
    "# STTTTTOOOOPPPPPP !!!!\n",
    "# PYTHON PROGRAM TO FIND THE SQUARE ROOT\n",
    "import math\n",
    "num = float(input('Enter a number: '))\n",
    "result = math.sqrt(num)\n",
    "print('square root = ',result)"
   ]
  },
  {
   "cell_type": "code",
   "execution_count": 10,
   "metadata": {},
   "outputs": [
    {
     "name": "stdout",
     "output_type": "stream",
     "text": [
      "Enter a number :9834795\n",
      "Square root value =  3136.0476718315363\n"
     ]
    }
   ],
   "source": [
    "# WITHOUT USING SQRT.MATH METHOD\n",
    "num = float(input('Enter a number :'))\n",
    "result = num**0.5\n",
    "print('Square root value = ', result)"
   ]
  },
  {
   "cell_type": "code",
   "execution_count": 13,
   "metadata": {},
   "outputs": [
    {
     "name": "stdout",
     "output_type": "stream",
     "text": [
      "a = 2\n",
      "b = 5\n",
      "c = -3\n",
      "root 1 =  -3.0\n",
      "root 2 =  0.5\n"
     ]
    }
   ],
   "source": [
    "# To find roots of a quadratic equation [ax²+bx+c =0]\n",
    "# 1.start\n",
    "# 2. input values\n",
    "# 3. calculate Discriminant d = b*b - 4*a*c\n",
    "# 4. calculate root1 = (b+sqrt(d))/(2*a)\n",
    "# 5.  calculate root1 = (b-sqrt(d))/(2*a)\n",
    "# 6. print root1, root2\n",
    "# 7. STOP !!!\n",
    "# PROGRAM TO FIND THE ROOOOOTTTTSSS!\n"
   ]
  },
  {
   "cell_type": "code",
   "execution_count": 2,
   "metadata": {},
   "outputs": [
    {
     "name": "stdout",
     "output_type": "stream",
     "text": [
      "a = 2\n",
      "b = 2\n",
      "c = -1\n",
      "root 1 =  -1.3660254037844386\n",
      "root 2 =  0.3660254037844386\n"
     ]
    }
   ],
   "source": [
    "a = int (input('a = '))\n",
    "b = int (input('b = '))\n",
    "c = int (input('c = '))\n",
    "d = b*b - 4*a*c\n",
    "import math\n",
    "root1 = -(b+math.sqrt(d))/(2*a)\n",
    "root2 = -(b-math.sqrt(d))/(2*a)\n",
    "print('root 1 = ', root1)\n",
    "print('root 2 = ', root2)"
   ]
  },
  {
   "cell_type": "code",
   "execution_count": null,
   "metadata": {},
   "outputs": [],
   "source": []
  }
 ],
 "metadata": {
  "kernelspec": {
   "display_name": "Python 3",
   "language": "python",
   "name": "python3"
  },
  "language_info": {
   "codemirror_mode": {
    "name": "ipython",
    "version": 3
   },
   "file_extension": ".py",
   "mimetype": "text/x-python",
   "name": "python",
   "nbconvert_exporter": "python",
   "pygments_lexer": "ipython3",
   "version": "3.7.1"
  }
 },
 "nbformat": 4,
 "nbformat_minor": 4
}
