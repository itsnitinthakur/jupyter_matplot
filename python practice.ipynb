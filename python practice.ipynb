{
 "cells": [
  {
   "cell_type": "code",
   "execution_count": 2,
   "metadata": {},
   "outputs": [],
   "source": [
    "# Write a Python program that accepts the string and calculate\n",
    "# the number of digits and letters.\n",
    "#e.g. Hello321bye360\n",
    "#input\n",
    "#digit - 6\n",
    "#letter - 8 ---- output be like."
   ]
  },
  {
   "cell_type": "code",
   "execution_count": 1,
   "metadata": {},
   "outputs": [
    {
     "name": "stdout",
     "output_type": "stream",
     "text": [
      "bfwyu67352\n",
      "Digit - 5\n",
      "Letter - 5\n"
     ]
    }
   ],
   "source": [
    "word = input()\n",
    "digit,letter = 0,0\n",
    "for char in word:\n",
    "    digit+=char.isdigit()\n",
    "    letter+=char.isalpha()\n",
    "\n",
    "print('Digit -',digit)\n",
    "print('Letter -',letter)"
   ]
  },
  {
   "cell_type": "code",
   "execution_count": 6,
   "metadata": {},
   "outputs": [
    {
     "name": "stdout",
     "output_type": "stream",
     "text": [
      "6\n",
      "21\n"
     ]
    }
   ],
   "source": [
    "def rec(n):\n",
    "    if n == 0:\n",
    "        return n\n",
    "    return rec(n-1) + n\n",
    "\n",
    "n = int(input())\n",
    "sum = rec(n)\n",
    "print(sum)"
   ]
  },
  {
   "cell_type": "code",
   "execution_count": 10,
   "metadata": {},
   "outputs": [
    {
     "name": "stdout",
     "output_type": "stream",
     "text": [
      "1,2,3,4,5,6\n",
      "['1', '2', '3', '4', '5', '6']\n",
      "('1', '2', '3', '4', '5', '6')\n"
     ]
    }
   ],
   "source": [
    "values = input()\n",
    "l = values.split(\",\")\n",
    "t = tuple(l)\n",
    "print (l)\n",
    "print (t)"
   ]
  },
  {
   "cell_type": "code",
   "execution_count": 11,
   "metadata": {},
   "outputs": [
    {
     "name": "stdout",
     "output_type": "stream",
     "text": [
      "5,6,7,8,9,22\n",
      "['5', '6', '7', '8', '9', '22']\n",
      "('5', '6', '7', '8', '9', '22')\n"
     ]
    }
   ],
   "source": [
    "lst = input().split(',')\n",
    "\n",
    "tpl = tuple(lst)\n",
    "print(lst)\n",
    "print(tpl)"
   ]
  },
  {
   "cell_type": "code",
   "execution_count": 16,
   "metadata": {},
   "outputs": [
    {
     "name": "stdout",
     "output_type": "stream",
     "text": [
      "niint\n",
      "NIINT\n"
     ]
    }
   ],
   "source": [
    "class InputOutputString(object):\n",
    "    def __init__(self):\n",
    "        self.s = \"\"\n",
    "    \n",
    "    def getString(self):\n",
    "        self.s = input()\n",
    "    \n",
    "    def printString(self):\n",
    "        print (self.s.upper())\n",
    "\n",
    "strObj = InputOutputString()\n",
    "strObj.getString()\n",
    "strObj.printString()"
   ]
  },
  {
   "cell_type": "code",
   "execution_count": 25,
   "metadata": {},
   "outputs": [
    {
     "name": "stdout",
     "output_type": "stream",
     "text": [
      "100,150,180\n",
      "18,22,24\n"
     ]
    }
   ],
   "source": [
    "import math\n",
    "c = 50\n",
    "h = 30\n",
    "value = []\n",
    "items = [x for x in input().split(',')]\n",
    "for d in items:\n",
    "    value.append(str(int(round(math.sqrt(2*c*float(d)/h)))))\n",
    "print (','.join(value))"
   ]
  },
  {
   "cell_type": "code",
   "execution_count": 28,
   "metadata": {},
   "outputs": [
    {
     "name": "stdout",
     "output_type": "stream",
     "text": [
      "100,150,180\n",
      "18,22,24\n"
     ]
    }
   ],
   "source": [
    "import math\n",
    "from math import *\n",
    "C,H =50,30\n",
    "\n",
    "def calc(D):\n",
    "    return sqrt((2*C*D)/H)\n",
    "D = input().split(',')\n",
    "D = [int(i) for i in D]\n",
    "D = [calc(i) for i in D]\n",
    "D = [round(i) for i in D]\n",
    "D = [str(i) for i in D]\n",
    "\n",
    "print(\",\".join(D))"
   ]
  },
  {
   "cell_type": "code",
   "execution_count": 29,
   "metadata": {},
   "outputs": [
    {
     "name": "stdout",
     "output_type": "stream",
     "text": [
      "100,150,180\n",
      "18,22,24\n"
     ]
    }
   ],
   "source": [
    "from math import *\n",
    "\n",
    "C,H = 50,30\n",
    "\n",
    "def calc(D):\n",
    "    return sqrt((2*C*D)/H)\n",
    "D = input().split(',')\n",
    "D = [str(round(calc(int(i)))) for i in D]\n",
    "print(\",\".join(D))"
   ]
  },
  {
   "cell_type": "code",
   "execution_count": 30,
   "metadata": {},
   "outputs": [
    {
     "name": "stdout",
     "output_type": "stream",
     "text": [
      "100,150,180\n",
      "18,22,24\n"
     ]
    }
   ],
   "source": [
    "from math import *\n",
    "C,H = 50,30\n",
    "\n",
    "def calc(D):\n",
    "    return sqrt((2*C*D)/H)\n",
    "\n",
    "print(\",\".join([str(int(calc(int(i)))) for i in input().split(',')]))"
   ]
  },
  {
   "cell_type": "code",
   "execution_count": 31,
   "metadata": {},
   "outputs": [
    {
     "name": "stdout",
     "output_type": "stream",
     "text": [
      "100,150,180\n",
      "18,22,24\n"
     ]
    }
   ],
   "source": [
    "from math import *\n",
    "C,H = 50,30\n",
    "\n",
    "def calc(D):\n",
    "    D = int(D)\n",
    "    return str(int(sqrt((2*C*D)/H)))\n",
    "\n",
    "D = input().split(',')\n",
    "D = list(map(calc,D))\n",
    "print(\",\".join(D))"
   ]
  },
  {
   "cell_type": "code",
   "execution_count": 35,
   "metadata": {},
   "outputs": [
    {
     "name": "stdout",
     "output_type": "stream",
     "text": [
      "3,4\n",
      "[[0, 0, 0, 0], [0, 1, 2, 3], [0, 2, 4, 6]]\n"
     ]
    }
   ],
   "source": [
    "input_str = input()\n",
    "dimensions = [int(x) for x in input_str.split(',')]\n",
    "rowNum = dimensions[0]\n",
    "colNum = dimensions[1]\n",
    "multilist = [[0 for col in range(colNum)] for row in range(rowNum)]\n",
    "\n",
    "for row in range(rowNum):\n",
    "    for col in range(colNum):\n",
    "        multilist[row][col] = row * col\n",
    "\n",
    "print (multilist)"
   ]
  },
  {
   "cell_type": "code",
   "execution_count": 36,
   "metadata": {},
   "outputs": [
    {
     "name": "stdout",
     "output_type": "stream",
     "text": [
      "3,4\n",
      "[[0, 0, 0, 0], [0, 1, 2, 3], [0, 2, 4, 6]]\n"
     ]
    }
   ],
   "source": [
    "x,y = map(int,input().split(','))\n",
    "lst = [[i*j for j in range(y)] for i in range(x)]  \n",
    "print(lst)\n"
   ]
  },
  {
   "cell_type": "code",
   "execution_count": 37,
   "metadata": {},
   "outputs": [
    {
     "name": "stdout",
     "output_type": "stream",
     "text": [
      "6,7\n",
      "[[0, 0, 0, 0, 0, 0, 0], [0, 1, 2, 3, 4, 5, 6], [0, 2, 4, 6, 8, 10, 12], [0, 3, 6, 9, 12, 15, 18], [0, 4, 8, 12, 16, 20, 24], [0, 5, 10, 15, 20, 25, 30]]\n"
     ]
    }
   ],
   "source": [
    "x,y = map(int,input().split(','))\n",
    "lst = []\n",
    "\n",
    "for i in range(x):\n",
    "    tmp = []\n",
    "    for j in range(y):     \n",
    "        tmp.append(i*j)\n",
    "    lst.append(tmp)\n",
    "    \n",
    "print(lst)"
   ]
  },
  {
   "cell_type": "code",
   "execution_count": 38,
   "metadata": {},
   "outputs": [
    {
     "name": "stdout",
     "output_type": "stream",
     "text": [
      "nitin,arun,parth,ramandeep\n",
      "arun,nitin,parth,ramandeep\n"
     ]
    }
   ],
   "source": [
    "items = [x for x in input().split(',')]\n",
    "items.sort()\n",
    "print(','.join(items))"
   ]
  },
  {
   "cell_type": "code",
   "execution_count": 40,
   "metadata": {},
   "outputs": [
    {
     "name": "stdout",
     "output_type": "stream",
     "text": [
      "nitin,ramandeep,part\n",
      "nitin,part,ramandeep\n"
     ]
    }
   ],
   "source": [
    "lst = input().split(',')\n",
    "lst.sort()\n",
    "print(\",\".join(lst))"
   ]
  },
  {
   "cell_type": "code",
   "execution_count": null,
   "metadata": {},
   "outputs": [],
   "source": [
    "lst = []\n",
    "\n",
    "while True:\n",
    "    x = input()\n",
    "    if len(x)==0:\n",
    "        break;\n",
    "    lst.append(x.upper())\n",
    "\n",
    "for line in lst:\n",
    "    print(line)\n"
   ]
  },
  {
   "cell_type": "code",
   "execution_count": 1,
   "metadata": {},
   "outputs": [
    {
     "name": "stdout",
     "output_type": "stream",
     "text": [
      "nitin nofbo nodg nitin nigd nitn rahul \n",
      " nigd nitin nitn nodg nofbo rahul\n"
     ]
    }
   ],
   "source": [
    "word = input().split(\" \")\n",
    "for i in word:\n",
    "    if word.count(i) > 1:\n",
    "        word.remove(i)\n",
    "\n",
    "word.sort()\n",
    "print(\" \".join(word))        "
   ]
  },
  {
   "cell_type": "code",
   "execution_count": 2,
   "metadata": {},
   "outputs": [
    {
     "name": "stdout",
     "output_type": "stream",
     "text": [
      "nogbi norsn nivds ntin nitn ntitin thakur thakur\n",
      "nitn nivds nogbi norsn ntin ntitin thakur\n"
     ]
    }
   ],
   "source": [
    "word = input().split(\" \")\n",
    "[word.remove(i) for i in word if word.count(i) > 1]\n",
    "word.sort()\n",
    "print(\" \".join(word))"
   ]
  },
  {
   "cell_type": "code",
   "execution_count": 3,
   "metadata": {},
   "outputs": [
    {
     "name": "stdout",
     "output_type": "stream",
     "text": [
      "ivsb  nvsn nlnv nlvs  \n",
      "ivsb nlnv nlvs nvsn\n"
     ]
    }
   ],
   "source": [
    "word = sorted(list(set(input().split())))\n",
    "\n",
    "print(\" \".join(word))"
   ]
  },
  {
   "cell_type": "code",
   "execution_count": 18,
   "metadata": {},
   "outputs": [
    {
     "name": "stdout",
     "output_type": "stream",
     "text": [
      "0100,0011,1010,1001\n",
      "1010\n"
     ]
    }
   ],
   "source": [
    "data = input().split(',')\n",
    "data = list(filter(lambda i:int(i,2)%5==0,data))    # lambda is an operator that helps to write function of one line\n",
    "print(\",\".join(data))"
   ]
  },
  {
   "cell_type": "code",
   "execution_count": 19,
   "metadata": {},
   "outputs": [
    {
     "name": "stdout",
     "output_type": "stream",
     "text": [
      "0000,0100,1010,1001\n",
      "0000,1010\n"
     ]
    }
   ],
   "source": [
    "def check(x):\n",
    "    total,pw = 0,1\n",
    "    reversed(x)\n",
    "    \n",
    "    for i in x:\n",
    "        total+=pw* (ord(i) - 48)\n",
    "        pw*=2\n",
    "    return total % 5\n",
    "data = input().split(\",\")\n",
    "lst = []\n",
    "\n",
    "for i in data:\n",
    "    if check(i) == 0:\n",
    "        lst.append(i)\n",
    "print(\",\".join(lst))"
   ]
  },
  {
   "cell_type": "code",
   "execution_count": 21,
   "metadata": {},
   "outputs": [
    {
     "name": "stdout",
     "output_type": "stream",
     "text": [
      "0000,0100,0101,1001\n",
      "0000,0101\n"
     ]
    }
   ],
   "source": [
    "def check(x):\n",
    "    return int(x,2)%5 == 0\n",
    "data = input().split(',')\n",
    "\n",
    "data = list(filter(check,data))\n",
    "print(\",\".join(data))"
   ]
  },
  {
   "cell_type": "code",
   "execution_count": 37,
   "metadata": {},
   "outputs": [
    {
     "name": "stdout",
     "output_type": "stream",
     "text": [
      "1111,1113,1115,1117,1119,1131,1133,1135,1137,1139,1151,1153,1155,1157,1159,1171,1173,1175,1177,1179,1191,1193,1195,1197,1199,1311,1313,1315,1317,1319,1331,1333,1335,1337,1339,1351,1353,1355,1357,1359,1371,1373,1375,1377,1379,1391,1393,1395,1397,1399,1511,1513,1515,1517,1519,1531,1533,1535,1537,1539,1551,1553,1555,1557,1559,1571,1573,1575,1577,1579,1591,1593,1595,1597,1599,1711,1713,1715,1717,1719,1731,1733,1735,1737,1739,1751,1753,1755,1757,1759,1771,1773,1775,1777,1779,1791,1793,1795,1797,1799,1911,1913,1915,1917,1919,1931,1933,1935,1937,1939,1951,1953,1955,1957,1959,1971,1973,1975,1977,1979,1991,1993,1995,1997,1999\n"
     ]
    }
   ],
   "source": [
    "lst = []\n",
    "for i in range(1000,3001):\n",
    "    z = 1\n",
    "    for j in str(i):\n",
    "        if ord(j)%2 == 0:\n",
    "            z = 0\n",
    "    if z == 1:\n",
    "        lst.append(str(i))\n",
    "\n",
    "print(\",\".join(lst))\n",
    "    "
   ]
  },
  {
   "cell_type": "code",
   "execution_count": 38,
   "metadata": {},
   "outputs": [
    {
     "name": "stdout",
     "output_type": "stream",
     "text": [
      "niserbivbs nosnovs! 124\n",
      "LETTER 17\n",
      "DIGITS 3\n"
     ]
    }
   ],
   "source": [
    "word = input()\n",
    "letter,digit = 0,0\n",
    "\n",
    "for i in word:\n",
    "    if ('a'<=i and i<='z') or ('A'<=i and i<='Z'):\n",
    "        letter+=1\n",
    "    if '0'<=i and i<='9':\n",
    "        digit+=1\n",
    "\n",
    "print(\"LETTER {0}\\nDIGITS {1}\".format(letter,digit))"
   ]
  },
  {
   "cell_type": "code",
   "execution_count": 41,
   "metadata": {},
   "outputs": [
    {
     "name": "stdout",
     "output_type": "stream",
     "text": [
      "kedf 84kbjfk 58 \n",
      "LETTER 9\n",
      "DIGITS 4\n"
     ]
    }
   ],
   "source": [
    "word = input()\n",
    "letter,digit = 0,0\n",
    "\n",
    "for i in word:\n",
    "    letter+=i.isalpha()\n",
    "    digit+=i.isnumeric()\n",
    "\n",
    "print(\"LETTER %d\\nDIGITS %d\"%(letter,digit))"
   ]
  },
  {
   "cell_type": "code",
   "execution_count": 5,
   "metadata": {},
   "outputs": [
    {
     "name": "stdout",
     "output_type": "stream",
     "text": [
      "nibuisSBGGjnoe\n",
      "upper case 4\n",
      "LOWER CASE 14\n"
     ]
    }
   ],
   "source": [
    "word = input()\n",
    "upper,lower = 0,0\n",
    "\n",
    "for i in word:\n",
    "    if 'a' and i<='z':\n",
    "        lower +=1\n",
    "    if 'A' and i<='Z':\n",
    "        upper+=1\n",
    "print(\"upper case {0}\\nLOWER CASE {1}\".format(upper,lower))"
   ]
  },
  {
   "cell_type": "code",
   "execution_count": 7,
   "metadata": {},
   "outputs": [
    {
     "name": "stdout",
     "output_type": "stream",
     "text": [
      "nfidsuVDDGDF\n",
      "UPPER CASE 6\n",
      "LOWER CASE 6\n"
     ]
    }
   ],
   "source": [
    "word = input()\n",
    "upper = sum(1 for i in word if i.isupper())\n",
    "lower = sum(1 for i in word if i.islower())\n",
    "\n",
    "print(\"UPPER CASE {0}\\nLOWER CASE {1}\".format(upper,lower))"
   ]
  },
  {
   "cell_type": "code",
   "execution_count": 10,
   "metadata": {},
   "outputs": [
    {
     "name": "stdout",
     "output_type": "stream",
     "text": [
      "njgfbGF\n",
      "UPPER CASE 2\n",
      "LOWER CASE 5\n"
     ]
    }
   ],
   "source": [
    "word = input()\n",
    "upper,lower = 0,0\n",
    "\n",
    "for i in word:\n",
    "    lower+=i.islower()\n",
    "    upper+=i.isupper()\n",
    "\n",
    "print(\"UPPER CASE {0}\\nLOWER CASE {1}\".format(upper,lower))"
   ]
  },
  {
   "cell_type": "markdown",
   "metadata": {},
   "source": [
    "Write a program that computes the value of a+aa+aaa+aaaa with a given digit as the value of a.\n",
    "input == 9\n",
    "then output=11106\n"
   ]
  },
  {
   "cell_type": "code",
   "execution_count": 12,
   "metadata": {},
   "outputs": [
    {
     "name": "stdout",
     "output_type": "stream",
     "text": [
      "9\n",
      "11106\n"
     ]
    }
   ],
   "source": [
    "a = input()\n",
    "total,tmp=0,str()\n",
    "\n",
    "for i in range(4):\n",
    "    tmp+=a\n",
    "    total+=int(tmp)\n",
    "\n",
    "print(total)"
   ]
  },
  {
   "cell_type": "code",
   "execution_count": 13,
   "metadata": {},
   "outputs": [
    {
     "name": "stdout",
     "output_type": "stream",
     "text": [
      "9\n",
      "11106\n"
     ]
    }
   ],
   "source": [
    "a = input()\n",
    "total = int(a) + int(2*a) + int(3*a) + int(4*a)\n",
    "print(total)"
   ]
  },
  {
   "cell_type": "code",
   "execution_count": 15,
   "metadata": {},
   "outputs": [],
   "source": [
    "import turtle"
   ]
  },
  {
   "cell_type": "code",
   "execution_count": 16,
   "metadata": {},
   "outputs": [],
   "source": [
    "from turtle import *"
   ]
  },
  {
   "cell_type": "code",
   "execution_count": 17,
   "metadata": {},
   "outputs": [],
   "source": [
    "from random import randrange"
   ]
  },
  {
   "cell_type": "code",
   "execution_count": 19,
   "metadata": {},
   "outputs": [],
   "source": [
    "from freegames import square"
   ]
  },
  {
   "cell_type": "code",
   "execution_count": 24,
   "metadata": {},
   "outputs": [],
   "source": [
    "\"\"\"Snake, classic arcade game.\n",
    "Exercises\n",
    "1. How do you make the snake faster or slower?\n",
    "2. How can you make the snake go around the edges?\n",
    "3. How would you move the food?\n",
    "4. Change the snake to respond to arrow keys.\n",
    "\"\"\"\n",
    "\n",
    "from turtle import *\n",
    "from random import randrange\n",
    "from freegames import square, vector\n",
    "\n",
    "food = vector(0, 0)\n",
    "snake = [vector(10, 0)]\n",
    "aim = vector(0, -10)\n",
    "\n",
    "def change(x, y):\n",
    "    \"Change snake direction.\"\n",
    "    aim.x = x\n",
    "    aim.y = y\n",
    "\n",
    "def inside(head):\n",
    "    \"Return True if head inside boundaries.\"\n",
    "    return -200 < head.x < 190 and -200 < head.y < 190\n",
    "\n",
    "def move():\n",
    "    \"Move snake forward one segment.\"\n",
    "    head = snake[-1].copy()\n",
    "    head.move(aim)\n",
    "\n",
    "    if not inside(head) or head in snake:\n",
    "        square(head.x, head.y, 9, 'red')\n",
    "        update()\n",
    "        return\n",
    "\n",
    "    snake.append(head)\n",
    "\n",
    "    if head == food:\n",
    "        print('Snake:', len(snake))\n",
    "        food.x = randrange(-15, 15) * 10\n",
    "        food.y = randrange(-15, 15) * 10\n",
    "    else:\n",
    "        snake.pop(0)\n",
    "\n",
    "    clear()\n",
    "\n",
    "    for body in snake:\n",
    "        square(body.x, body.y, 9, 'black')\n",
    "\n",
    "    square(food.x, food.y, 9, 'green')\n",
    "    update()\n",
    "    ontimer(move, 100)\n",
    "\n",
    "setup(420, 420, 370, 0)\n",
    "hideturtle()\n",
    "tracer(False)\n",
    "listen()\n",
    "onkey(lambda: change(10, 0), 'Right')\n",
    "onkey(lambda: change(-10, 0), 'Left')\n",
    "onkey(lambda: change(0, 10), 'Up')\n",
    "onkey(lambda: change(0, -10), 'Down')\n",
    "move()\n",
    "done()"
   ]
  },
  {
   "cell_type": "code",
   "execution_count": 28,
   "metadata": {},
   "outputs": [],
   "source": [
    "from random import *\n",
    "from turtle import *\n",
    "from freegames import vector\n",
    "\n",
    "def value():\n",
    "    \"Randomly generate value between (-5, -3) or (3, 5).\"\n",
    "    return (3 + random() * 2) * choice([1, -1])\n",
    "\n",
    "ball = vector(0, 0)\n",
    "aim = vector(value(), value())\n",
    "\n",
    "def draw():\n",
    "    \"Move ball and draw game.\"\n",
    "    ball.move(aim)\n",
    "\n",
    "    x = ball.x\n",
    "    y = ball.y\n",
    "\n",
    "    if x < -200 or x > 200:\n",
    "        aim.x = -aim.x\n",
    "\n",
    "    if y < -200 or y > 400:\n",
    "        aim.y = -aim.y\n",
    "\n",
    "    clear()\n",
    "    goto(x, y)\n",
    "    dot(10)\n",
    "\n",
    "    ontimer(draw, 50)\n",
    "\n",
    "setup(420, 420, 370, 0)\n",
    "hideturtle()\n",
    "tracer(False)\n",
    "up()\n",
    "draw()\n",
    "done()"
   ]
  },
  {
   "cell_type": "code",
   "execution_count": 32,
   "metadata": {},
   "outputs": [],
   "source": [
    "from random import randrange\n",
    "from turtle import *\n",
    "from freegames import vector\n",
    "\n",
    "ball = vector(-200, -200)\n",
    "speed = vector(0, 0)\n",
    "targets = []\n",
    "\n",
    "def tap(x, y):\n",
    "    \"Respond to screen tap.\"\n",
    "    if not inside(ball):\n",
    "        ball.x = -199\n",
    "        ball.y = -199\n",
    "        speed.x = (x + 200) / 25\n",
    "        speed.y = (y + 200) / 25\n",
    "\n",
    "def inside(xy):\n",
    "    \"Return True if xy within screen.\"\n",
    "    return -200 < xy.x < 200 and -200 < xy.y < 200\n",
    "\n",
    "def draw():\n",
    "    \"Draw ball and targets.\"\n",
    "    clear()\n",
    "\n",
    "    for target in targets:\n",
    "        goto(target.x, target.y)\n",
    "        dot(20, 'blue')\n",
    "\n",
    "    if inside(ball):\n",
    "        goto(ball.x, ball.y)\n",
    "        dot(6, 'red')\n",
    "\n",
    "    update()\n",
    "\n",
    "def move():\n",
    "    \"Move ball and targets.\"\n",
    "    if randrange(40) == 0:\n",
    "        y = randrange(-150, 150)\n",
    "        target = vector(200, y)\n",
    "        targets.append(target)\n",
    "\n",
    "    for target in targets:\n",
    "        target.x -= 0.5\n",
    "\n",
    "    if inside(ball):\n",
    "        speed.y -= 0.35\n",
    "        ball.move(speed)\n",
    "\n",
    "    dupe = targets.copy()\n",
    "    targets.clear()\n",
    "\n",
    "    for target in dupe:\n",
    "        if abs(target - ball) > 13:\n",
    "            targets.append(target)\n",
    "\n",
    "    draw()\n",
    "\n",
    "    for target in targets:\n",
    "        if not inside(target):\n",
    "            return\n",
    "\n",
    "    ontimer(move, 50)\n",
    "\n",
    "setup(420, 420, 370, 0)\n",
    "hideturtle()\n",
    "up()\n",
    "tracer(False)\n",
    "onscreenclick(tap)\n",
    "move()\n",
    "done()"
   ]
  },
  {
   "cell_type": "code",
   "execution_count": 34,
   "metadata": {},
   "outputs": [],
   "source": [
    "from turtle import *\n",
    "from freegames import line\n",
    "\n",
    "turns = {'red': 'yellow', 'yellow': 'red'}\n",
    "state = {'player': 'yellow', 'rows': [0] * 8}\n",
    "\n",
    "def grid():\n",
    "    \"Draw Connect Four grid.\"\n",
    "    bgcolor('light blue')\n",
    "\n",
    "    for x in range(-150, 200, 50):\n",
    "        line(x, -200, x, 200)\n",
    "\n",
    "    for x in range(-175, 200, 50):\n",
    "        for y in range(-175, 200, 50):\n",
    "            up()\n",
    "            goto(x, y)\n",
    "            dot(40, 'white')\n",
    "\n",
    "    update()\n",
    "\n",
    "def tap(x, y):\n",
    "    \"Draw red or yellow circle in tapped row.\"\n",
    "    player = state['player']\n",
    "    rows = state['rows']\n",
    "\n",
    "    row = int((x + 200) // 50)\n",
    "    count = rows[row]\n",
    "\n",
    "    x = ((x + 200) // 50) * 50 - 200 + 25\n",
    "    y = count * 50 - 200 + 25\n",
    "\n",
    "    up()\n",
    "    goto(x, y)\n",
    "    dot(40, player)\n",
    "    update()\n",
    "\n",
    "    rows[row] = count + 1\n",
    "    state['player'] = turns[player]\n",
    "\n",
    "setup(420, 420, 370, 0)\n",
    "hideturtle()\n",
    "tracer(False)\n",
    "grid()\n",
    "onscreenclick(tap)\n",
    "done()"
   ]
  },
  {
   "cell_type": "code",
   "execution_count": 36,
   "metadata": {},
   "outputs": [],
   "source": [
    "from turtle import *\n",
    "from random import random\n",
    "from freegames import line\n",
    "\n",
    "def draw():\n",
    "    \"Draw maze.\"\n",
    "    color('black')\n",
    "    width(5)\n",
    "\n",
    "    for x in range(-200, 200, 40):\n",
    "        for y in range(-200, 200, 40):\n",
    "            if random() > 0.5:\n",
    "                line(x, y, x + 40, y + 40)\n",
    "            else:\n",
    "                line(x, y + 40, x + 40, y)\n",
    "\n",
    "    update()\n",
    "\n",
    "def tap(x, y):\n",
    "    \"Draw line and dot for screen tap.\"\n",
    "    if abs(x) > 198 or abs(y) > 198:\n",
    "        up()\n",
    "    else:\n",
    "        down()\n",
    "\n",
    "    width(2)\n",
    "    color('red')\n",
    "    goto(x, y)\n",
    "    dot(4)\n",
    "\n",
    "setup(420, 420, 370, 0)\n",
    "hideturtle()\n",
    "tracer(False)\n",
    "draw()\n",
    "onscreenclick(tap)\n",
    "done()"
   ]
  },
  {
   "cell_type": "code",
   "execution_count": 52,
   "metadata": {},
   "outputs": [
    {
     "name": "stdout",
     "output_type": "stream",
     "text": [
      "1,2,3,6,88,77,9,88\n",
      "2\n",
      "6\n",
      "88\n",
      "88\n"
     ]
    }
   ],
   "source": [
    "lst = [int(i) for i in input('').split(',')]\n",
    "i=0\n",
    "while i<len(lst):\n",
    "    if lst[i]%2==0:\n",
    "        print(lst[i])\n",
    "    i=i+1"
   ]
  },
  {
   "cell_type": "code",
   "execution_count": 56,
   "metadata": {},
   "outputs": [
    {
     "name": "stdout",
     "output_type": "stream",
     "text": [
      "1,2,3,4,5,6\n",
      "6\n",
      "9\n"
     ]
    }
   ],
   "source": [
    "lst = [int(i) for i in input('').split(',')]\n",
    "e=0\n",
    "s=0\n",
    "o=0\n",
    "while e<len(lst):\n",
    "    if lst[e]%2==0:\n",
    "        s=s+lst[e]\n",
    "    else:\n",
    "        o=o+lst[e]\n",
    "    e=e+1\n",
    "print(e)\n",
    "print(o)"
   ]
  },
  {
   "cell_type": "code",
   "execution_count": 4,
   "metadata": {},
   "outputs": [
    {
     "name": "stdout",
     "output_type": "stream",
     "text": [
      "Enter some number bitch : 1,2,3,4,5,6,7,8,9\n",
      "1,9,25,49,81,"
     ]
    }
   ],
   "source": [
    "lst = [int(x) for x in input(\"Enter some number bitch : \").split(\",\")]\n",
    "odd=0\n",
    "for i in lst:\n",
    "    if i%2!=0:\n",
    "        print(i**2,end=',')"
   ]
  },
  {
   "cell_type": "code",
   "execution_count": 3,
   "metadata": {},
   "outputs": [
    {
     "name": "stdout",
     "output_type": "stream",
     "text": [
      "1,2,3,4,5\n",
      "1,9,25\n"
     ]
    }
   ],
   "source": [
    "lst = [str(int(i)**2) for i in input().split(',') if int(i) % 2]\n",
    "print(\",\".join(lst))"
   ]
  },
  {
   "cell_type": "code",
   "execution_count": 5,
   "metadata": {},
   "outputs": [
    {
     "name": "stdout",
     "output_type": "stream",
     "text": [
      "D 300\n"
     ]
    },
    {
     "ename": "NameError",
     "evalue": "name 'D' is not defined",
     "output_type": "error",
     "traceback": [
      "\u001b[1;31m---------------------------------------------------------------------------\u001b[0m",
      "\u001b[1;31mNameError\u001b[0m                                 Traceback (most recent call last)",
      "\u001b[1;32m<ipython-input-5-50a408fa00a1>\u001b[0m in \u001b[0;36m<module>\u001b[1;34m\u001b[0m\n\u001b[0;32m      3\u001b[0m \u001b[0ma\u001b[0m\u001b[1;33m=\u001b[0m\u001b[1;36m0\u001b[0m\u001b[1;33m\u001b[0m\u001b[1;33m\u001b[0m\u001b[0m\n\u001b[0;32m      4\u001b[0m \u001b[0ms\u001b[0m\u001b[1;33m=\u001b[0m\u001b[1;36m0\u001b[0m\u001b[1;33m\u001b[0m\u001b[1;33m\u001b[0m\u001b[0m\n\u001b[1;32m----> 5\u001b[1;33m \u001b[1;32mif\u001b[0m \u001b[0md\u001b[0m\u001b[1;33m==\u001b[0m\u001b[0mD\u001b[0m\u001b[1;33m:\u001b[0m\u001b[1;33m\u001b[0m\u001b[1;33m\u001b[0m\u001b[0m\n\u001b[0m\u001b[0;32m      6\u001b[0m     \u001b[0ms\u001b[0m\u001b[1;33m=\u001b[0m\u001b[0ms\u001b[0m\u001b[1;33m+\u001b[0m\u001b[0mint\u001b[0m\u001b[1;33m(\u001b[0m\u001b[0ma\u001b[0m\u001b[1;33m)\u001b[0m\u001b[1;33m\u001b[0m\u001b[1;33m\u001b[0m\u001b[0m\n\u001b[0;32m      7\u001b[0m \u001b[1;32melse\u001b[0m\u001b[1;33m:\u001b[0m\u001b[1;33m\u001b[0m\u001b[1;33m\u001b[0m\u001b[0m\n",
      "\u001b[1;31mNameError\u001b[0m: name 'D' is not defined"
     ]
    }
   ],
   "source": [
    "d,a=input().split(' ')\n",
    "d=0\n",
    "a=0\n",
    "s=0\n",
    "if d==D:\n",
    "    s=s+int(a)\n",
    "else:\n",
    "    s=s-int(a)\n",
    "print(s)"
   ]
  },
  {
   "cell_type": "code",
   "execution_count": 9,
   "metadata": {},
   "outputs": [
    {
     "name": "stdout",
     "output_type": "stream",
     "text": [
      "D 600\n",
      "D 600\n",
      "W 400\n",
      "D 200\n",
      "\n",
      "1400\n"
     ]
    }
   ],
   "source": [
    "total = 0\n",
    "while True:\n",
    "    s = input().split()\n",
    "    if not s:\n",
    "        break\n",
    "    cm,num = map(str,s)\n",
    "    \n",
    "    if cm=='D':\n",
    "        total+=int(num)\n",
    "    if cm == 'w':\n",
    "        total-=int(num)\n",
    "\n",
    "print(total)"
   ]
  },
  {
   "cell_type": "code",
   "execution_count": 10,
   "metadata": {},
   "outputs": [
    {
     "name": "stdout",
     "output_type": "stream",
     "text": [
      "D 100\n",
      "W 2\n",
      "\n",
      "98\n"
     ]
    }
   ],
   "source": [
    "lst = []\n",
    "while True:\n",
    "    x = input()\n",
    "    if len(x)==0:\n",
    "        break\n",
    "    lst.append(x)\n",
    "\n",
    "balance = 0\n",
    "for item in lst:\n",
    "    if 'D' in item:\n",
    "        balance += int(item.strip('D '))\n",
    "    if 'W' in item:\n",
    "        balance -= int(item.strip('W '))\n",
    "print(balance)"
   ]
  },
  {
   "cell_type": "code",
   "execution_count": null,
   "metadata": {},
   "outputs": [],
   "source": [
    "account = 0\n",
    "while True:\n",
    "    action = input(\"Deposit/Whitdrow/Balance/Quit? D/W/B/Q: \").lower()\n",
    "    if action ==\"d\":\n",
    "        deposit = input(\"How much would you like to deposit? \")\n",
    "        account = account + int(deposit)\n",
    "    elif action == \"w\":\n",
    "        withdrow = input(\"How much would you llike to withdrow? \")\n",
    "        account = account - int(withdrow)\n",
    "    elif action == \"b\":\n",
    "        print(account)\n",
    "    else:\n",
    "        quit()"
   ]
  },
  {
   "cell_type": "code",
   "execution_count": 5,
   "metadata": {},
   "outputs": [
    {
     "name": "stdout",
     "output_type": "stream",
     "text": [
      "[[], [1], [2], [1, 2], [3], [1, 3], [2, 3], [1, 2, 3], [4], [1, 4], [2, 4], [1, 2, 4], [3, 4], [1, 3, 4], [2, 3, 4], [1, 2, 3, 4], [5], [1, 5], [2, 5], [1, 2, 5], [3, 5], [1, 3, 5], [2, 3, 5], [1, 2, 3, 5], [4, 5], [1, 4, 5], [2, 4, 5], [1, 2, 4, 5], [3, 4, 5], [1, 3, 4, 5], [2, 3, 4, 5], [1, 2, 3, 4, 5]]\n"
     ]
    }
   ],
   "source": [
    "def genSubsets(L):\n",
    "    if len(L) == 0:\n",
    "        return [[]]\n",
    "    smaller = genSubsets(L[:-1])\n",
    "    extra = L[-1:]\n",
    "    new = []\n",
    "    for small in smaller:\n",
    "        new.append(small+extra)\n",
    "    return smaller+new\n",
    "\n",
    "testSet = [1,2,3,4,5]\n",
    "print(genSubsets(testSet))"
   ]
  },
  {
   "cell_type": "code",
   "execution_count": 5,
   "metadata": {},
   "outputs": [
    {
     "name": "stdout",
     "output_type": "stream",
     "text": [
      "nitin, 22,98\n",
      "\n",
      "[('nitin', ' 22', '98')]\n"
     ]
    }
   ],
   "source": [
    "lst = []\n",
    "while True:\n",
    "    s = input().split(',')\n",
    "    if not s[0]:\n",
    "        break\n",
    "    lst.append(tuple(s))\n",
    "\n",
    "lst.sort(key= lambda x:(x[0],x[1],x[2]))\n",
    "print(lst)"
   ]
  },
  {
   "cell_type": "code",
   "execution_count": 6,
   "metadata": {},
   "outputs": [
    {
     "name": "stdout",
     "output_type": "stream",
     "text": [
      "ABd1234@1\n",
      "ABd1234@1\n"
     ]
    }
   ],
   "source": [
    "def is_low(x):\n",
    "    for i in x:\n",
    "        if 'a'<=i and i<='z':\n",
    "            return True\n",
    "    return False\n",
    "def is_up(x):\n",
    "    for i in x:\n",
    "        if 'A'<=i and i<='Z':\n",
    "            return True\n",
    "    return False\n",
    "def is_num(x):\n",
    "    for i in x:\n",
    "        if '0'<=i and i<='9':\n",
    "            return True\n",
    "    return False\n",
    "\n",
    "def is_other(x):\n",
    "    for i in x:\n",
    "        if i=='$' or i=='#' or i=='@':\n",
    "            return True\n",
    "    return False\n",
    "\n",
    "s = input().split(',')\n",
    "lst = []\n",
    "\n",
    "for i in s:\n",
    "    length = len(i)\n",
    "    if 6<= length and length <= 12 and is_low(i) and is_up(i) and is_num(i) and is_other(i):\n",
    "        lst.append(i)\n",
    "\n",
    "print(','.join(lst))"
   ]
  },
  {
   "cell_type": "code",
   "execution_count": 7,
   "metadata": {},
   "outputs": [
    {
     "name": "stdout",
     "output_type": "stream",
     "text": [
      "Abhds123@\n",
      "Abhds123@\n"
     ]
    }
   ],
   "source": [
    "def check(x):\n",
    "    cnt = (6<=len(x) and len(x)<=12)\n",
    "    for i in x:\n",
    "        if i.isupper():\n",
    "            cnt+=1\n",
    "            break\n",
    "    for i in x:\n",
    "        if i.islower():\n",
    "            cnt+=1\n",
    "            break\n",
    "    for i in x:\n",
    "        if i.isnumeric():\n",
    "            cnt+=1\n",
    "            break\n",
    "    for i in x:\n",
    "        if i=='@' or i=='#'or i=='$':\n",
    "            cnt+=1\n",
    "            break\n",
    "    return cnt == 5               # counting if total 5 all conditions are fulfilled then returns True\n",
    "\n",
    "s = input().split(',')\n",
    "lst = filter(check,s)             # Filter function pick the words from s, those returns True by check() function\n",
    "print(\",\".join(lst))"
   ]
  },
  {
   "cell_type": "code",
   "execution_count": 7,
   "metadata": {},
   "outputs": [
    {
     "name": "stdout",
     "output_type": "stream",
     "text": [
      "Please insert a number. ---->44\n",
      "0\n",
      "7\n",
      "14\n",
      "21\n",
      "28\n",
      "35\n",
      "42\n"
     ]
    }
   ],
   "source": [
    "class Divisible:\n",
    "    \n",
    "    def by_seven(self, n):\n",
    "        for number in range(n + 1):\n",
    "            if number % 7== 0: yield number\n",
    "divisible = Divisible()\n",
    "generator = divisible.by_seven(int(input(\"Please insert a number. ---->\")))\n",
    "for number in generator:\n",
    "    print(number)"
   ]
  },
  {
   "cell_type": "code",
   "execution_count": 8,
   "metadata": {},
   "outputs": [
    {
     "name": "stdout",
     "output_type": "stream",
     "text": [
      "UP 5\n",
      "DOWN 9\n",
      "LEFT 6\n",
      "RIGHT 4\n",
      "\n",
      "4\n"
     ]
    }
   ],
   "source": [
    "import math\n",
    "\n",
    "x,y = 0,0\n",
    "while True:\n",
    "    s = input().split()\n",
    "    if not s:\n",
    "        break\n",
    "    if s[0]=='UP':\n",
    "        x-=int(s[1])\n",
    "    if s[0] == 'DOWN':\n",
    "        x+=int(s[1])\n",
    "    if s[0] == 'LEFT':\n",
    "        y-=int(s[1])\n",
    "    if s[0] == 'RIGHT':\n",
    "        y+=int(s[1])\n",
    "dist = round(math.sqrt(x**2 + y**2))\n",
    "print(dist)"
   ]
  },
  {
   "cell_type": "code",
   "execution_count": 9,
   "metadata": {},
   "outputs": [
    {
     "name": "stdout",
     "output_type": "stream",
     "text": [
      "my name is nitin i am nitin i am fucking nitin thakur yes thakur\n",
      "am:2\n",
      "fucking:1\n",
      "i:2\n",
      "is:1\n",
      "my:1\n",
      "name:1\n",
      "nitin:3\n",
      "thakur:2\n",
      "yes:1\n"
     ]
    }
   ],
   "source": [
    "ss = input().split()\n",
    "word = sorted(set(ss))\n",
    "\n",
    "for i in word:\n",
    "    print(\"{0}:{1}\".format(i,ss.count(i)))"
   ]
  },
  {
   "cell_type": "code",
   "execution_count": 8,
   "metadata": {},
   "outputs": [
    {
     "name": "stdout",
     "output_type": "stream",
     "text": [
      "Enter StringPython\n",
      "{'Python': 1}\n"
     ]
    }
   ],
   "source": [
    "user_str = input('Enter String')\n",
    "l = user_str.split()\n",
    "d = {}\n",
    "for i in l:\n",
    "    if i not in d.keys():\n",
    "        d[i] = 0\n",
    "    d[i] = d[i] + 1\n",
    "print(d)"
   ]
  },
  {
   "cell_type": "code",
   "execution_count": 18,
   "metadata": {},
   "outputs": [
    {
     "name": "stdout",
     "output_type": "stream",
     "text": [
      "Python\n",
      "Python:1\n"
     ]
    }
   ],
   "source": [
    "ss = input().split()\n",
    "dict = {}\n",
    "for i in ss:\n",
    "    i = dict.setdefault(i,ss.count(i))    # setdefault() function takes key & value to set it as dictionary.\n",
    "\n",
    "dict = sorted(dict.items())               # items() function returns both key & value of dictionary as a list\n",
    "                                          # and then sorted. The sort by default occurs in order of 1st -> 2nd key\n",
    "for i in dict:\n",
    "    print(\"%s:%d\"%(i[0],i[1]))"
   ]
  },
  {
   "cell_type": "code",
   "execution_count": 19,
   "metadata": {},
   "outputs": [
    {
     "name": "stdout",
     "output_type": "stream",
     "text": [
      "Python\n",
      "Python:1\n"
     ]
    }
   ],
   "source": [
    "ss = input().split()\n",
    "dict = {i:ss.count(i) for i in ss}     # sets dictionary as i-> split word & ss.count(i) -> total occurrence of i in ss\n",
    "dict = sorted(dict.items())            # items() function returns both key & value of dictionary as a list\n",
    "                                       # and then sorted. The sort by default occurs in order of 1st -> 2nd key\n",
    "for i in dict:\n",
    "    print(\"%s:%d\"%(i[0],i[1]))      "
   ]
  },
  {
   "cell_type": "code",
   "execution_count": 20,
   "metadata": {},
   "outputs": [
    {
     "name": "stdout",
     "output_type": "stream",
     "text": [
      "Python\n",
      "{'Python': 1}\n"
     ]
    }
   ],
   "source": [
    "from pprint import pprint\n",
    "p=input().split()\n",
    "pprint({i:p.count(i) for i in p})"
   ]
  },
  {
   "cell_type": "code",
   "execution_count": 21,
   "metadata": {},
   "outputs": [
    {
     "name": "stdout",
     "output_type": "stream",
     "text": [
      "Car name is Honda \n",
      "Car name is Toyota\n"
     ]
    }
   ],
   "source": [
    "class Car:\n",
    "    name = \"Car\"\n",
    "    \n",
    "    def __init__(self,name = None):\n",
    "        self.name = name\n",
    "honda=Car(\"Honda\")\n",
    "print(\"%s name is %s \"%(Car.name,honda.name))\n",
    "\n",
    "toyota=Car()\n",
    "toyota.name=\"Toyota\"\n",
    "print(\"%s name is %s\"%(Car.name,toyota.name))"
   ]
  },
  {
   "cell_type": "code",
   "execution_count": 1,
   "metadata": {},
   "outputs": [
    {
     "name": "stdout",
     "output_type": "stream",
     "text": [
      "{1: 1, 2: 4, 3: 9, 4: 16, 5: 25, 6: 36, 7: 49, 8: 64, 9: 81, 10: 100, 11: 121, 12: 144, 13: 169, 14: 196, 15: 225, 16: 256, 17: 289, 18: 324, 19: 361, 20: 400}\n"
     ]
    }
   ],
   "source": [
    "def printDict():\n",
    "    dict={i:i**2 for i in range(1,21)}\n",
    "    print(dict)\n",
    "\n",
    "printDict()"
   ]
  },
  {
   "cell_type": "code",
   "execution_count": 6,
   "metadata": {},
   "outputs": [
    {
     "name": "stdout",
     "output_type": "stream",
     "text": [
      "dict_keys([1, 2, 3, 4, 5, 6, 7, 8, 9, 10, 11, 12, 13, 14, 15, 16, 17, 18, 19, 20])\n"
     ]
    }
   ],
   "source": [
    "def printDict():\n",
    "    dict={i:i**2 for i in range(1,21)}\n",
    "    print(dict.keys())\n",
    "\n",
    "printDict()"
   ]
  },
  {
   "cell_type": "code",
   "execution_count": 4,
   "metadata": {},
   "outputs": [
    {
     "name": "stdout",
     "output_type": "stream",
     "text": [
      "[1, 4, 9, 16, 25, 36, 49, 64, 81, 100, 121, 144, 169, 196, 225, 256, 289, 324, 361, 400]\n"
     ]
    }
   ],
   "source": [
    "def printList():\n",
    "    li=list()\n",
    "    for i in range(1,21):\n",
    "        li.append(i**2)\n",
    "    print(li)\n",
    "printList()"
   ]
  },
  {
   "cell_type": "code",
   "execution_count": 10,
   "metadata": {},
   "outputs": [
    {
     "name": "stdout",
     "output_type": "stream",
     "text": [
      "[1, 4, 9, 16, 25, 36]\n"
     ]
    }
   ],
   "source": [
    "def printList():\n",
    "    li=list()\n",
    "    for i in range(1,21):\n",
    "        li.append(i**2)\n",
    "        if i==6:\n",
    "            break\n",
    "    print(li)\n",
    "\n",
    "printList()"
   ]
  },
  {
   "cell_type": "code",
   "execution_count": 11,
   "metadata": {},
   "outputs": [
    {
     "name": "stdout",
     "output_type": "stream",
     "text": [
      "1\n",
      "4\n",
      "9\n",
      "16\n",
      "25\n"
     ]
    }
   ],
   "source": [
    "def printList():\n",
    "    lst = [i**2 for i in range(1,21)]\n",
    "    \n",
    "    for i in range(5):\n",
    "        print(lst[i])\n",
    "\n",
    "printList()"
   ]
  },
  {
   "cell_type": "code",
   "execution_count": 15,
   "metadata": {},
   "outputs": [
    {
     "name": "stdout",
     "output_type": "stream",
     "text": [
      "[1, 4, 9, 16, 25]\n",
      "None\n"
     ]
    }
   ],
   "source": [
    "func = lambda :print([i**2 for i in range(1,21)][:5])\n",
    "print(func())"
   ]
  },
  {
   "cell_type": "code",
   "execution_count": 30,
   "metadata": {},
   "outputs": [
    {
     "name": "stdout",
     "output_type": "stream",
     "text": [
      "[400, 361, 324, 289, 256]\n",
      "None\n"
     ]
    }
   ],
   "source": [
    "func = lambda :print([i**2 for i in range(1,21)][19:14:-1])\n",
    "print(func())"
   ]
  },
  {
   "cell_type": "code",
   "execution_count": 31,
   "metadata": {},
   "outputs": [
    {
     "name": "stdout",
     "output_type": "stream",
     "text": [
      "[36, 49, 64, 81, 100, 121, 144, 169, 196, 225, 256, 289, 324, 361, 400]\n",
      "None\n"
     ]
    }
   ],
   "source": [
    "func = lambda :print([i**2 for i in range(1,21)][5:])\n",
    "print(func())"
   ]
  },
  {
   "cell_type": "code",
   "execution_count": 32,
   "metadata": {},
   "outputs": [
    {
     "name": "stdout",
     "output_type": "stream",
     "text": [
      "(1, 4, 9, 16, 25, 36, 49, 64, 81, 100, 121, 144, 169, 196, 225, 256, 289, 324, 361, 400)\n"
     ]
    }
   ],
   "source": [
    "def printTupple():\n",
    "    lst = [i ** 2 for i in range(1, 21)]\n",
    "    print(tuple(lst))\n",
    "\n",
    "printTupple()"
   ]
  },
  {
   "cell_type": "code",
   "execution_count": null,
   "metadata": {},
   "outputs": [],
   "source": []
  },
  {
   "cell_type": "code",
   "execution_count": null,
   "metadata": {},
   "outputs": [],
   "source": []
  },
  {
   "cell_type": "code",
   "execution_count": null,
   "metadata": {},
   "outputs": [],
   "source": []
  },
  {
   "cell_type": "code",
   "execution_count": null,
   "metadata": {},
   "outputs": [],
   "source": [
    "def factorial(number):\n",
    "    fact=1\n",
    "    if number == 0 and number ==1 :\n",
    "        return fact\n",
    "    \n",
    "    for i in range(1,number+1):\n",
    "        fact=fact*i\n",
    "    return(fact)\n",
    "\n",
    "def find_strong_numbers(num_list):\n",
    "    strong =[] \n",
    "  \n",
    "    for x in num_list: \n",
    "        temp = x \n",
    "        sum = 0\n",
    "        while x != 0 : \n",
    "            rem = x % 10\n",
    "            sum += factorial(rem) \n",
    "            x = x // 10\n",
    "        if(sum == temp and sum != 0): \n",
    "            strong.append(temp)  \n",
    "              \n",
    "    return strong \n",
    "\n",
    "if __name__ == \"__main__\":\n",
    "    \n",
    "    num_list=[145,375,40585,2,0,40]\n",
    "    strong_num_list=find_strong_numbers(num_list)\n",
    "    for strong_num in strong_num_list:   \n",
    "        print(strong_num, end = \" \")"
   ]
  },
  {
   "cell_type": "code",
   "execution_count": null,
   "metadata": {},
   "outputs": [],
   "source": []
  },
  {
   "cell_type": "code",
   "execution_count": null,
   "metadata": {},
   "outputs": [],
   "source": []
  },
  {
   "cell_type": "code",
   "execution_count": null,
   "metadata": {},
   "outputs": [],
   "source": []
  },
  {
   "cell_type": "code",
   "execution_count": null,
   "metadata": {},
   "outputs": [],
   "source": []
  },
  {
   "cell_type": "code",
   "execution_count": null,
   "metadata": {},
   "outputs": [],
   "source": []
  }
 ],
 "metadata": {
  "kernelspec": {
   "display_name": "Python 3",
   "language": "python",
   "name": "python3"
  },
  "language_info": {
   "codemirror_mode": {
    "name": "ipython",
    "version": 3
   },
   "file_extension": ".py",
   "mimetype": "text/x-python",
   "name": "python",
   "nbconvert_exporter": "python",
   "pygments_lexer": "ipython3",
   "version": "3.7.1"
  }
 },
 "nbformat": 4,
 "nbformat_minor": 4
}
