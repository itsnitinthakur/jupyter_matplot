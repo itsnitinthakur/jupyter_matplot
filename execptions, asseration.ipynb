{
 "cells": [
  {
   "cell_type": "code",
   "execution_count": null,
   "metadata": {},
   "outputs": [],
   "source": [
    "a,b,c=[int(x) for x in input(\"Enter three numbers:\").split()]\n",
    "s = a+b+c\n",
    "p = a*b*c\n",
    "print(\"sum is = %.2f,  product is = %.2f\"%s%p)"
   ]
  },
  {
   "cell_type": "code",
   "execution_count": null,
   "metadata": {},
   "outputs": [],
   "source": [
    "a,b,c=[int(x) for x in input(\"Enter three numbers:\").split()]\n",
    "s = a+b+c\n",
    "p = a*b*c\n",
    "print(\"sum is = %.2f,  product is = %.2f\"%s%p)"
   ]
  },
  {
   "cell_type": "code",
   "execution_count": null,
   "metadata": {},
   "outputs": [],
   "source": [
    "class Vehicle:\n",
    "    \n",
    "    def "
   ]
  }
 ],
 "metadata": {
  "kernelspec": {
   "display_name": "Python 3",
   "language": "python",
   "name": "python3"
  },
  "language_info": {
   "codemirror_mode": {
    "name": "ipython",
    "version": 3
   },
   "file_extension": ".py",
   "mimetype": "text/x-python",
   "name": "python",
   "nbconvert_exporter": "python",
   "pygments_lexer": "ipython3",
   "version": "3.7.1"
  }
 },
 "nbformat": 4,
 "nbformat_minor": 4
}
